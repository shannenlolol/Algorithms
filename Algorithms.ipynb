{
 "cells": [
  {
   "cell_type": "markdown",
   "metadata": {},
   "source": [
    "# Breadth First Search \n",
    "to find vertices that can be reached starting from a specified vertex"
   ]
  },
  {
   "cell_type": "raw",
   "metadata": {},
   "source": [
    "Pseudocode:\n",
    "\n",
    "function BFS(Graph G, Vertex v)\n",
    "\n",
    "    create a Queue, Q\n",
    "    enqueue v into Q\n",
    "    mark v as visited\n",
    "    \n",
    "    while Q is not empty do\n",
    "    \n",
    "        dequeue a vertex denoted as w\n",
    "        \n",
    "        for each unvisited vertx u adjacent to w\n",
    "        \n",
    "            mark u as visited\n",
    "            enqueue u into Q"
   ]
  },
  {
   "cell_type": "code",
   "execution_count": 3,
   "metadata": {},
   "outputs": [
    {
     "name": "stdout",
     "output_type": "stream",
     "text": [
      "A B C D E F "
     ]
    }
   ],
   "source": [
    "graph = {\n",
    "  'A' : ['B','C'],\n",
    "  'B' : ['D', 'E'],\n",
    "  'C' : ['F'],\n",
    "  'D' : [],\n",
    "  'E' : ['F'],\n",
    "  'F' : []\n",
    "}\n",
    "\n",
    " \n",
    "def bfs(graph, node):\n",
    "  visited = [] \n",
    "  queue = []   \n",
    "  visited.append(node)\n",
    "  queue.append(node)\n",
    "\n",
    "  while queue:\n",
    "    s = queue.pop(0) \n",
    "    print (s, end = \" \") \n",
    "\n",
    "    for neighbour in graph[s]:\n",
    "      if neighbour not in visited:\n",
    "        visited.append(neighbour)\n",
    "        queue.append(neighbour)\n",
    "\n",
    "        \n",
    "bfs(graph, 'A')"
   ]
  },
  {
   "cell_type": "markdown",
   "metadata": {},
   "source": [
    "# Depth First Search"
   ]
  },
  {
   "cell_type": "raw",
   "metadata": {},
   "source": [
    "Pseudocode:\n",
    "\n",
    "function DFS(Graph G, Vertex v)\n",
    "\n",
    "    create a Stack, S\n",
    "    push v into S\n",
    "    mark v as visited\n",
    "    \n",
    "    while S is not empty do\n",
    "    \n",
    "        peek the stack and denote the vertex as w\n",
    "        \n",
    "        if no unvisited vertices are adjacent to w\n",
    "           \n",
    "           pop a vertex from S\n",
    "            \n",
    "        else\n",
    "            push an unvisited vertex u adjacent to w\n",
    "            \n",
    "            mark u as visited\n",
    "             "
   ]
  },
  {
   "cell_type": "code",
   "execution_count": 8,
   "metadata": {},
   "outputs": [
    {
     "name": "stdout",
     "output_type": "stream",
     "text": [
      "A B C D E F "
     ]
    }
   ],
   "source": [
    "graph = {\n",
    "    'A' : ['B','C'],\n",
    "    'B' : ['D', 'E'],\n",
    "    'C' : ['F'],\n",
    "    'D' : [],\n",
    "    'E' : ['F'],\n",
    "    'F' : []\n",
    "}\n",
    "\n",
    "\n",
    "def dfs(graph, root):\n",
    "    visited = set()\n",
    "    stack = [root]\n",
    "    while stack:\n",
    "        node = stack.pop()\n",
    "        if node not in visited:\n",
    "            visited.add(node)\n",
    "            stack += graph[node]\n",
    "    return visited\n",
    "\n",
    "bfs(graph, 'A')"
   ]
  },
  {
   "cell_type": "markdown",
   "metadata": {},
   "source": [
    "# Dijkstra's Algorithm (shortest path)"
   ]
  },
  {
   "cell_type": "code",
   "execution_count": 6,
   "metadata": {},
   "outputs": [],
   "source": [
    "def dijkstra(graph, source=0):\n",
    "  S = [] #set of vertices whose shortest path from source are alr determined\n",
    "  d = [] #array of estimates for shortest paths\n",
    "  pi = [] #array of predecessors for each vertex\n",
    "  priQueue = []\n",
    "\n",
    "  #Time Complexity = V\n",
    "  for i in range(len(graph)):\n",
    "    d.append(float('inf'))\n",
    "    pi.append(None)\n",
    "    S.append(0)\n",
    "    #put all vertices in priQueue, in d[v]'s increasing order\n",
    "    priQueue.append(i)\n",
    "\n",
    "  d[source] = 0\n",
    "  \n",
    "  while len(priQueue) != 0:\n",
    "    #extract cheapest queue\n",
    "    cheap = 0\n",
    "\n",
    "    for i in range(len(priQueue)):\n",
    "      if d[priQueue[i]] < d[priQueue[cheap]]:\n",
    "        cheap = i\n",
    "    \n",
    "    u = priQueue.pop(cheap)\n",
    "    S[u] = 1\n",
    "\n",
    "    for i in range(len(graph)):\n",
    "      vertex = i\n",
    "      weight = graph[u][i]\n",
    "      if (weight > 0 and S[vertex] != 1 and d[vertex] > d[u] + weight ):\n",
    "        d[vertex] = d[u] + weight\n",
    "        pi[vertex] = u\n",
    "        \n",
    "  return pi"
   ]
  },
  {
   "cell_type": "code",
   "execution_count": null,
   "metadata": {},
   "outputs": [],
   "source": []
  }
 ],
 "metadata": {
  "kernelspec": {
   "display_name": "Python 3",
   "language": "python",
   "name": "python3"
  },
  "language_info": {
   "codemirror_mode": {
    "name": "ipython",
    "version": 3
   },
   "file_extension": ".py",
   "mimetype": "text/x-python",
   "name": "python",
   "nbconvert_exporter": "python",
   "pygments_lexer": "ipython3",
   "version": "3.8.5"
  }
 },
 "nbformat": 4,
 "nbformat_minor": 4
}
